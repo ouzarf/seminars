{
 "cells": [
  {
   "cell_type": "markdown",
   "metadata": {},
   "source": [
    "ML-tutorial—1:introduction to Exploratory Data Analysis(EDA)"
   ]
  },
  {
   "cell_type": "markdown",
   "metadata": {},
   "source": [
    "DATA ANLYSYS with a basic skill on statistics is the pre-requisite for Machine Learning In a nutshell, a machine learning project has two main parts:\n",
    "\n",
    "1- Exploratory Data Analysis : step of Preprocessing Data Understanding, Data Cleaning, Target Variable Selection, Feature Extraction, Scaling, Dimensionality Reduction.\n",
    "\n",
    "2 - Modeling and Prediction Training, Performance Metrics, Evaluation, Deployement."
   ]
  },
  {
   "cell_type": "markdown",
   "metadata": {},
   "source": [
    "Exploratory Data Analysis  "
   ]
  },
  {
   "cell_type": "markdown",
   "metadata": {},
   "source": [
    "To begin to analyze the data you need: i) A tool that allows you to look at the data = that is “python library”. ii) Skill in basic statistics."
   ]
  },
  {
   "cell_type": "markdown",
   "metadata": {},
   "source": [
    "# Gentle hands-on introduction to Python programming"
   ]
  },
  {
   "cell_type": "markdown",
   "metadata": {},
   "source": [
    "## Downloading, Installing and Starting Python and Libraries"
   ]
  },
  {
   "cell_type": "code",
   "execution_count": 2,
   "metadata": {},
   "outputs": [
    {
     "name": "stdout",
     "output_type": "stream",
     "text": [
      "Hello World!\n"
     ]
    }
   ],
   "source": [
    "# Starting with Hello World!\n",
    "print(\"Hello World!\")"
   ]
  },
  {
   "cell_type": "markdown",
   "metadata": {},
   "source": [
    "## Variables & Comment"
   ]
  },
  {
   "cell_type": "code",
   "execution_count": 3,
   "metadata": {},
   "outputs": [
    {
     "name": "stdout",
     "output_type": "stream",
     "text": [
      "Hello World!\n"
     ]
    }
   ],
   "source": [
    "# comment \n",
    "# Assignment\n",
    "# ==========\n",
    "print (\"Hello World!\")"
   ]
  },
  {
   "cell_type": "code",
   "execution_count": 4,
   "metadata": {
    "collapsed": true
   },
   "outputs": [],
   "source": [
    "# Multiple Assignment\n",
    "var = 100\n",
    "var1, var2, var3 = 100,  \"Python is very good!\" , 300            # var1 =100, var2=200, var3=300   NOT possible in python"
   ]
  },
  {
   "cell_type": "code",
   "execution_count": 5,
   "metadata": {},
   "outputs": [
    {
     "name": "stdout",
     "output_type": "stream",
     "text": [
      " var=  100     |  var2= Python is very good!\n",
      "<class 'int'>  |  <class 'str'>\n"
     ]
    }
   ],
   "source": [
    "print (\" var= \", var,\"    |\",\" var2=\", var2 )\n",
    "\n",
    "print(type(var),\" | \",type(var2))"
   ]
  },
  {
   "cell_type": "code",
   "execution_count": 6,
   "metadata": {},
   "outputs": [
    {
     "name": "stdout",
     "output_type": "stream",
     "text": [
      "None\n"
     ]
    }
   ],
   "source": [
    "# No value\n",
    "a = None\n",
    "print(a)"
   ]
  },
  {
   "cell_type": "markdown",
   "metadata": {},
   "source": [
    "## Arithmetic Operator"
   ]
  },
  {
   "cell_type": "code",
   "execution_count": 7,
   "metadata": {},
   "outputs": [
    {
     "name": "stdout",
     "output_type": "stream",
     "text": [
      "a= 300 | b= 8.0 | c= 3 | d= 2 | e= 64\n"
     ]
    }
   ],
   "source": [
    "a = 100 + 200\n",
    "b = 72/9\n",
    "c = 11 % 4 \n",
    "d = 11 // 4\n",
    "e = 8 ** 2\n",
    "print(\"a=\",a,\"|\",\"b=\",b,\"|\",\"c=\",c,\"|\",\"d=\",d,\"|\",\"e=\",e)"
   ]
  },
  {
   "cell_type": "code",
   "execution_count": 8,
   "metadata": {},
   "outputs": [
    {
     "name": "stdout",
     "output_type": "stream",
     "text": [
      "address of variable a is: 652801787984\n"
     ]
    }
   ],
   "source": [
    "print(\"address of variable a is:\", id(a))"
   ]
  },
  {
   "cell_type": "markdown",
   "metadata": {},
   "source": [
    "## Assignment Operators :   “x += y” equals “x = x + y”"
   ]
  },
  {
   "cell_type": "code",
   "execution_count": 9,
   "metadata": {},
   "outputs": [
    {
     "name": "stdout",
     "output_type": "stream",
     "text": [
      "0\n"
     ]
    }
   ],
   "source": [
    "x=20   \n",
    "y=2\n",
    "x %= y\n",
    "print (x)"
   ]
  },
  {
   "cell_type": "code",
   "execution_count": 10,
   "metadata": {},
   "outputs": [
    {
     "name": "stdout",
     "output_type": "stream",
     "text": [
      "10\n"
     ]
    }
   ],
   "source": [
    "m=100\n",
    "n=18\n",
    "m%=n\n",
    "print (m)"
   ]
  },
  {
   "cell_type": "markdown",
   "metadata": {},
   "source": [
    "## Comparison Operators"
   ]
  },
  {
   "cell_type": "code",
   "execution_count": 11,
   "metadata": {},
   "outputs": [
    {
     "name": "stdout",
     "output_type": "stream",
     "text": [
      " result1=  False  |  result2= False |  result3= True\n",
      "<class 'bool'>    |  <class 'bool'> |  <class 'bool'>\n"
     ]
    }
   ],
   "source": [
    "a=100\n",
    "b=200\n",
    "result1= (a>b)\n",
    "\n",
    "result2= (a==b)\n",
    "\n",
    "result3= (a!=b)\n",
    "\n",
    "print (\" result1= \", result1,\" |\",\" result2=\", result2,\"|\",\" result3=\", result3 )\n",
    "\n",
    "print(type(result1),\"   | \",type(result2),\"| \",type(result3))"
   ]
  },
  {
   "cell_type": "markdown",
   "metadata": {},
   "source": [
    "## Logical Operators"
   ]
  },
  {
   "cell_type": "code",
   "execution_count": 9,
   "metadata": {},
   "outputs": [
    {
     "name": "stdout",
     "output_type": "stream",
     "text": [
      "False\n",
      "True\n",
      "False\n"
     ]
    }
   ],
   "source": [
    "x=True  \n",
    "y=False\n",
    "a=x and y   \n",
    "print (a)   \n",
    "\n",
    "b=x or y     \n",
    "print (b)   \n",
    "\n",
    "c=not x          \n",
    "print (c)  "
   ]
  },
  {
   "cell_type": "markdown",
   "metadata": {},
   "source": [
    "## Data Type"
   ]
  },
  {
   "cell_type": "code",
   "execution_count": 10,
   "metadata": {},
   "outputs": [
    {
     "name": "stdout",
     "output_type": "stream",
     "text": [
      "your data is:  100  !! The type of value is : <class 'int'>\n"
     ]
    }
   ],
   "source": [
    "data = 100\n",
    "print(\"your data is: \",data,\" !! The type of value is :\", type(data))"
   ]
  },
  {
   "cell_type": "code",
   "execution_count": 11,
   "metadata": {
    "collapsed": true
   },
   "outputs": [],
   "source": [
    "# Float"
   ]
  },
  {
   "cell_type": "code",
   "execution_count": 12,
   "metadata": {},
   "outputs": [
    {
     "name": "stdout",
     "output_type": "stream",
     "text": [
      "your data is:  100.001  !! The type of value is : <class 'float'>\n"
     ]
    }
   ],
   "source": [
    "data = 100.001\n",
    "print(\"your data is: \",data,\" !! The type of value is :\", type(data))"
   ]
  },
  {
   "cell_type": "code",
   "execution_count": 13,
   "metadata": {},
   "outputs": [
    {
     "name": "stdout",
     "output_type": "stream",
     "text": [
      "your data is:  texte  !! The type of value is : <class 'str'>\n"
     ]
    }
   ],
   "source": [
    "data = \"texte\"\n",
    "print(\"your data is: \",data,\" !! The type of value is :\", type(data))"
   ]
  },
  {
   "cell_type": "code",
   "execution_count": 14,
   "metadata": {},
   "outputs": [
    {
     "name": "stdout",
     "output_type": "stream",
     "text": [
      "your data is:  False  !! The type of value is : <class 'bool'>\n"
     ]
    }
   ],
   "source": [
    "data = False\n",
    "print(\"your data is: \",data,\" !! The type of value is :\", type(data))"
   ]
  },
  {
   "cell_type": "markdown",
   "metadata": {},
   "source": [
    "## Convert Data Type"
   ]
  },
  {
   "cell_type": "code",
   "execution_count": 15,
   "metadata": {},
   "outputs": [
    {
     "name": "stdout",
     "output_type": "stream",
     "text": [
      "8 <class 'int'> 1902469504\n",
      "9 <class 'int'> 817750362448\n",
      "5.0 <class 'float'> 817750213760\n"
     ]
    }
   ],
   "source": [
    "num1 = int(8.67) \n",
    "print (num1, type(num1),id(num1))     # returns 8\n",
    "num2 = round(8.67)\n",
    "print (num2, type(num2),id(num2))    # returns 9.0\n",
    "num3 = float(5)\n",
    "print (num3, type(num3),id(num3))    # returns 5.0"
   ]
  },
  {
   "cell_type": "code",
   "execution_count": 16,
   "metadata": {},
   "outputs": [
    {
     "name": "stdout",
     "output_type": "stream",
     "text": [
      "A <class 'str'>\n",
      "100 <class 'str'>\n",
      "0xf <class 'str'>\n",
      "0o10 <class 'str'>\n",
      "0b1000 <class 'str'>\n"
     ]
    }
   ],
   "source": [
    "v1 = chr(65) \n",
    "print(v1, type(v1))     # returns A\n",
    "v2 = str(100)\n",
    "print(v2,type(v2))    # returns 100\n",
    "v3 = hex(15) \n",
    "print(v3, type(v3))     # returns F\n",
    "v4 = oct(8)\n",
    "print(v4,type(v4))    # returns 10\n",
    "v5 =bin(8)\n",
    "print(v5,type(v5))    # returns 10\n"
   ]
  },
  {
   "cell_type": "markdown",
   "metadata": {},
   "source": [
    "## Conditional Operator"
   ]
  },
  {
   "cell_type": "code",
   "execution_count": 17,
   "metadata": {},
   "outputs": [
    {
     "name": "stdout",
     "output_type": "stream",
     "text": [
      "apple\n"
     ]
    }
   ],
   "source": [
    "a=100\n",
    "b=200\n",
    "result = \"apple\" if (a<b) else \"banana\"\n",
    "print (result) "
   ]
  },
  {
   "cell_type": "markdown",
   "metadata": {},
   "source": [
    "## Statement"
   ]
  },
  {
   "cell_type": "code",
   "execution_count": 19,
   "metadata": {},
   "outputs": [
    {
     "name": "stdout",
     "output_type": "stream",
     "text": [
      "a is less than b\n"
     ]
    }
   ],
   "source": [
    "a = 100\n",
    "b = 200\n",
    "if a > b:\n",
    "    print (\"a is greater than b.\")\n",
    "else:\n",
    "    print (\"a is less than b\")"
   ]
  },
  {
   "cell_type": "code",
   "execution_count": null,
   "metadata": {},
   "outputs": [
    {
     "name": "stdout",
     "output_type": "stream",
     "text": [
      "num is greater than 150\n"
     ]
    }
   ],
   "source": [
    "num=200\n",
    "if num < 100:\n",
    "    print (\"num is less than 100\")\n",
    "elif 100 < num < 150:\n",
    "    print (\"num is between 100 and 150\")\n",
    "else:\n",
    "    print (\"num is greater than 150\")"
   ]
  },
  {
   "cell_type": "markdown",
   "metadata": {
    "collapsed": true
   },
   "source": [
    "## Data Structure"
   ]
  },
  {
   "cell_type": "markdown",
   "metadata": {},
   "source": [
    "### Tuple "
   ]
  },
  {
   "cell_type": "code",
   "execution_count": 76,
   "metadata": {},
   "outputs": [
    {
     "name": "stdout",
     "output_type": "stream",
     "text": [
      "(1, 2, 10, 3, 4, 5) <class 'tuple'>\n"
     ]
    }
   ],
   "source": [
    "# Tuple (cannot change)\n",
    "tuple1 = (1, 2, 10,3,4,5)\n",
    "print(tuple1,type(tuple1))\n"
   ]
  },
  {
   "cell_type": "code",
   "execution_count": 82,
   "metadata": {},
   "outputs": [
    {
     "data": {
      "text/plain": [
       "10"
      ]
     },
     "execution_count": 82,
     "metadata": {},
     "output_type": "execute_result"
    }
   ],
   "source": [
    "max(tuple1)"
   ]
  },
  {
   "cell_type": "code",
   "execution_count": 75,
   "metadata": {},
   "outputs": [
    {
     "name": "stdout",
     "output_type": "stream",
     "text": [
      "1\n",
      "(1, 2)\n",
      "(2, 3, 4)\n",
      "(2, 3, 4, 5)\n"
     ]
    }
   ],
   "source": [
    "print(tuple1[0])\n",
    "print(tuple1[:2])\n",
    "print(tuple1[1:4])\n",
    "print(tuple1[1:])"
   ]
  },
  {
   "cell_type": "markdown",
   "metadata": {},
   "source": [
    "### Lists"
   ]
  },
  {
   "cell_type": "code",
   "execution_count": 56,
   "metadata": {},
   "outputs": [
    {
     "name": "stdout",
     "output_type": "stream",
     "text": [
      "First Value: 1\n",
      "List Length: 4\n",
      "1\n",
      "2\n",
      "3\n",
      "4\n"
     ]
    }
   ],
   "source": [
    "\n",
    "mylist = [1, 2, 3]\n",
    "print((\"First Value: %d\") % mylist[0])\n",
    "mylist.append(4)\n",
    "print((\"List Length: %d\") % len(mylist))\n",
    "for value in mylist:\n",
    "    print( value)\n"
   ]
  },
  {
   "cell_type": "code",
   "execution_count": 69,
   "metadata": {},
   "outputs": [
    {
     "name": "stdout",
     "output_type": "stream",
     "text": [
      "[2, 3, 4]\n"
     ]
    }
   ],
   "source": [
    "#Creating newList from elements of other list using slicing operator\n",
    "newList = mylist[1:] \n",
    "print(newList)"
   ]
  },
  {
   "cell_type": "code",
   "execution_count": 72,
   "metadata": {},
   "outputs": [
    {
     "name": "stdout",
     "output_type": "stream",
     "text": [
      "Inserted element 3 at index 2: [1, 2, 5, 3, 3, 4]\n"
     ]
    }
   ],
   "source": [
    "mylist.insert(2,5) #Insert element at particular index\n",
    "print(\"Inserted element 3 at index 2:\" ,mylist)"
   ]
  },
  {
   "cell_type": "markdown",
   "metadata": {},
   "source": [
    "### Dictionaries"
   ]
  },
  {
   "cell_type": "code",
   "execution_count": 84,
   "metadata": {},
   "outputs": [
    {
     "name": "stdout",
     "output_type": "stream",
     "text": [
      "Dictionary: {'age': 21, 'name': 'Peter'}\n",
      "Name:  Peter\n",
      "Keys:  dict_keys(['age', 'name'])\n",
      "Values:  dict_values([21, 'Peter'])\n"
     ]
    }
   ],
   "source": [
    "dict1 = {'age': 21, 'name': 'Peter'} # Creating a dictionary\n",
    "\n",
    "print(\"Dictionary:\" ,dict1)\n",
    "print(\"Name: \",dict1['name'])\n",
    "print(\"Keys: \",dict1.keys()) # dict.keys() gives the list of keys in a dictionary\n",
    "print(\"Values: \",dict1.values()) # dict.vallues() gives the list of values in a dictionary"
   ]
  },
  {
   "cell_type": "code",
   "execution_count": 58,
   "metadata": {},
   "outputs": [
    {
     "name": "stdout",
     "output_type": "stream",
     "text": [
      "A value: 1\n",
      "A value: 11\n",
      "Keys: dict_keys(['a', 'b', 'c'])\n",
      "Values: dict_values([11, 2, 3])\n",
      "11\n",
      "2\n",
      "3\n"
     ]
    }
   ],
   "source": [
    "mydict = {'a': 1, 'b': 2, 'c': 3}\n",
    "print((\"A value: %d\") % mydict['a'])\n",
    "mydict['a'] = 11\n",
    "print((\"A value: %d\") % mydict['a'])\n",
    "print((\"Keys: %s\") % mydict.keys())\n",
    "print((\"Values: %s\") % mydict.values())\n",
    "for key in mydict.keys():\n",
    "    print( mydict[key])\n"
   ]
  },
  {
   "cell_type": "markdown",
   "metadata": {},
   "source": [
    "### Functions"
   ]
  },
  {
   "cell_type": "code",
   "execution_count": 61,
   "metadata": {},
   "outputs": [
    {
     "name": "stdout",
     "output_type": "stream",
     "text": [
      "a=2\n",
      "b=5\n",
      "The som is: \t7\tThe sub is: \t-3\n"
     ]
    }
   ],
   "source": [
    "\n",
    "# ===========\n",
    "def add(n,m):\n",
    "    return n+m\n",
    "\n",
    "def sub(n,m):\n",
    "    return n-m\n",
    "\n",
    "a= eval(input(\"a=\"))\n",
    "b= eval(input(\"b=\"))\n",
    "\n",
    "som = add(a,b)\n",
    "sub = sub(a,b)\n",
    "\n",
    "print(\"The som is: \", som,\"The sub is: \", sub, sep= \"\\t\")"
   ]
  },
  {
   "cell_type": "code",
   "execution_count": 64,
   "metadata": {},
   "outputs": [
    {
     "name": "stdout",
     "output_type": "stream",
     "text": [
      "som is 7 and sub is -3\n"
     ]
    }
   ],
   "source": [
    "print(\"som is %d and sub is %d\"%(som,sub))"
   ]
  },
  {
   "cell_type": "markdown",
   "metadata": {},
   "source": [
    "### Set"
   ]
  },
  {
   "cell_type": "markdown",
   "metadata": {},
   "source": [
    "Set values cannot be indexed or sliced, because, set value has no order."
   ]
  },
  {
   "cell_type": "code",
   "execution_count": 85,
   "metadata": {},
   "outputs": [
    {
     "name": "stdout",
     "output_type": "stream",
     "text": [
      "{1, 2, 3, 4}\n"
     ]
    }
   ],
   "source": [
    "set1 = {1,2,3,4,1,1}\n",
    "print(set1) # Prints only the unique elements"
   ]
  },
  {
   "cell_type": "code",
   "execution_count": 99,
   "metadata": {},
   "outputs": [
    {
     "name": "stdout",
     "output_type": "stream",
     "text": [
      "{'p', 't', 'h', 'n', 'o', 'y'}\n"
     ]
    }
   ],
   "source": [
    "y = set(\"python\") # String is singularized into characters\n",
    "print(y)"
   ]
  },
  {
   "cell_type": "code",
   "execution_count": 100,
   "metadata": {},
   "outputs": [
    {
     "name": "stdout",
     "output_type": "stream",
     "text": [
      "{'c', 'o', 'n', 't'}\n"
     ]
    }
   ],
   "source": [
    "x = set(\"cotton\") # String is singularized into characters\n",
    "print(x)"
   ]
  },
  {
   "cell_type": "code",
   "execution_count": 101,
   "metadata": {},
   "outputs": [
    {
     "data": {
      "text/plain": [
       "{'h', 'p', 'y'}"
      ]
     },
     "execution_count": 101,
     "metadata": {},
     "output_type": "execute_result"
    }
   ],
   "source": [
    "y-x"
   ]
  },
  {
   "cell_type": "markdown",
   "metadata": {},
   "source": [
    "## Numpy"
   ]
  },
  {
   "cell_type": "code",
   "execution_count": 12,
   "metadata": {},
   "outputs": [
    {
     "name": "stdout",
     "output_type": "stream",
     "text": [
      "numpy version: 1.15.4\n",
      "pandas version: 0.23.4\n",
      "SciPy version: 0.19.1\n",
      "scikit-learn version: 0.20.2\n",
      "matplotlib version: 2.2.2\n"
     ]
    }
   ],
   "source": [
    "\n",
    "import numpy as np\n",
    "import pandas as pd\n",
    "import scipy as sp\n",
    "import sklearn as sk\n",
    "import matplotlib\n",
    "\n",
    "\n",
    "print( 'numpy version:', np.__version__)\n",
    "print(\"pandas version:\", pd.__version__)\n",
    "print(\"SciPy version:\", sp.__version__)\n",
    "print('scikit-learn version:', sk.__version__)\n",
    "print ('matplotlib version:', matplotlib.__version__)"
   ]
  },
  {
   "cell_type": "code",
   "execution_count": 135,
   "metadata": {},
   "outputs": [
    {
     "name": "stdout",
     "output_type": "stream",
     "text": [
      "[1 2 3]\n",
      "(3,)\n",
      "int32\n"
     ]
    }
   ],
   "source": [
    "# Numpy : define an array\n",
    "import numpy\n",
    "mylist = [1, 2, 3]\n",
    "myarray = numpy.array(mylist)\n",
    "print(myarray)\n",
    "print(myarray.shape)\n",
    "\n",
    "print(myarray.dtype)"
   ]
  },
  {
   "cell_type": "code",
   "execution_count": 136,
   "metadata": {},
   "outputs": [
    {
     "name": "stdout",
     "output_type": "stream",
     "text": [
      "[[1 2 3]\n",
      " [3 4 5]]\n",
      "(2, 3)\n",
      "int32\n"
     ]
    }
   ],
   "source": [
    "# access values\n",
    "import numpy as np\n",
    "mylist = [[1, 2, 3], [3, 4, 5]]\n",
    "myarray = np.array(mylist)\n",
    "print(myarray)\n",
    "print(myarray.shape)\n",
    "\n",
    "print(myarray.dtype)"
   ]
  },
  {
   "cell_type": "code",
   "execution_count": 110,
   "metadata": {},
   "outputs": [
    {
     "name": "stdout",
     "output_type": "stream",
     "text": [
      "First row: [1 2 3]\n",
      "Last row: [3 4 5]\n",
      "Specific row and col: 3\n",
      "Whole col: [3 5]\n"
     ]
    }
   ],
   "source": [
    "print((\"First row: %s\") % myarray[0])\n",
    "print((\"Last row: %s\") % myarray[-1])\n",
    "print((\"Specific row and col: %s\") % myarray[0, 2])\n",
    "print((\"Whole col: %s\") % myarray[:, 2])"
   ]
  },
  {
   "cell_type": "code",
   "execution_count": 113,
   "metadata": {},
   "outputs": [
    {
     "name": "stdout",
     "output_type": "stream",
     "text": [
      "Addition: [5 5 5]\n",
      "Multiplication: [6 6 6]\n"
     ]
    }
   ],
   "source": [
    "# arithmetic\n",
    "import numpy as np\n",
    "myarray1 = np.array([2, 2, 2])\n",
    "myarray2 = np.array([3, 3, 3])\n",
    "print((\"Addition: %s\") % (myarray1 + myarray2))\n",
    "print((\"Multiplication: %s\") % (myarray1 * myarray2))"
   ]
  },
  {
   "cell_type": "code",
   "execution_count": 137,
   "metadata": {},
   "outputs": [
    {
     "name": "stdout",
     "output_type": "stream",
     "text": [
      "float64 [1.  1.5 2.  2.5 3.  3.5 4.  4.5]\n"
     ]
    }
   ],
   "source": [
    "c=np.arange(1, 5, 0.5)\n",
    "print(c.dtype, c)"
   ]
  },
  {
   "cell_type": "code",
   "execution_count": 138,
   "metadata": {},
   "outputs": [
    {
     "data": {
      "text/plain": [
       "array([0.  , 0.25, 0.5 , 0.75, 1.  ])"
      ]
     },
     "execution_count": 138,
     "metadata": {},
     "output_type": "execute_result"
    }
   ],
   "source": [
    "d= np.linspace(0, 1, 5)\n",
    "d"
   ]
  },
  {
   "cell_type": "code",
   "execution_count": 174,
   "metadata": {},
   "outputs": [
    {
     "data": {
      "image/png": "[encoded data removed]",
      "text/plain": [
       "<Figure size 432x288 with 1 Axes>"
      ]
     },
     "metadata": {},
     "output_type": "display_data"
    }
   ],
   "source": [
    "import numpy as np\n",
    "x = np.linspace(-10, 10, 500)\n",
    "y = x**2\n",
    "\n",
    "plt.plot(x, y)\n",
    "plt.show()"
   ]
  },
  {
   "cell_type": "code",
   "execution_count": 175,
   "metadata": {},
   "outputs": [
    {
     "data": {
      "text/plain": [
       "[<matplotlib.lines.Line2D at 0x4ff82d5d30>]"
      ]
     },
     "execution_count": 175,
     "metadata": {},
     "output_type": "execute_result"
    },
    {
     "data": {
      "image/png": "[encoded data removed]",
      "text/plain": [
       "<Figure size 432x288 with 1 Axes>"
      ]
     },
     "metadata": {},
     "output_type": "display_data"
    }
   ],
   "source": [
    "y = np.sin(x)\n",
    "# The plot function makes a line chart of one array against another\n",
    "plt.plot(x, y, marker=\"x\")"
   ]
  },
  {
   "cell_type": "markdown",
   "metadata": {},
   "source": [
    "## pandas "
   ]
  },
  {
   "cell_type": "code",
   "execution_count": 140,
   "metadata": {},
   "outputs": [
    {
     "name": "stdout",
     "output_type": "stream",
     "text": [
      "Series([], dtype: float64)\n"
     ]
    }
   ],
   "source": [
    "#import the pandas library and aliasing as pd\n",
    "import pandas as pd\n",
    "s = pd.Series()\n",
    "print( s)"
   ]
  },
  {
   "cell_type": "code",
   "execution_count": 144,
   "metadata": {},
   "outputs": [
    {
     "name": "stdout",
     "output_type": "stream",
     "text": [
      "a    1\n",
      "b    2\n",
      "c    3\n",
      "dtype: int32\n",
      "1\n",
      "1\n"
     ]
    }
   ],
   "source": [
    "# series\n",
    "import numpy as np\n",
    "import pandas as pd\n",
    "myarray = np.array([1, 2, 3])\n",
    "rownames = ['a', 'b', 'c']\n",
    "\n",
    "myseries = pd.Series(myarray, index=rownames)\n",
    "print(myseries)\n",
    "\n",
    "#retrieve the first element\n",
    "print(myseries[0])\n",
    "print(myseries['a'])\n"
   ]
  },
  {
   "cell_type": "code",
   "execution_count": 143,
   "metadata": {},
   "outputs": [
    {
     "name": "stdout",
     "output_type": "stream",
     "text": [
      "100    A\n",
      "101    B\n",
      "102    C\n",
      "103    D\n",
      "dtype: object\n"
     ]
    }
   ],
   "source": [
    "import pandas as pd\n",
    "import numpy as np\n",
    "data = np.array(['A','B','C','D'])\n",
    "s = pd.Series(data,index=[100,101,102,103])\n",
    "print(s)"
   ]
  },
  {
   "cell_type": "code",
   "execution_count": 116,
   "metadata": {},
   "outputs": [
    {
     "name": "stdout",
     "output_type": "stream",
     "text": [
      "   one  two  three\n",
      "a    1    2      3\n",
      "b    4    5      6\n"
     ]
    }
   ],
   "source": [
    "\n",
    "# dataframe\n",
    "import numpy as np\n",
    "import pandas as pd\n",
    "myarray = np.array([[1, 2, 3], [4, 5, 6]])\n",
    "rownames = ['a', 'b']\n",
    "colnames = ['one', 'two', 'three']\n",
    "mydataframe = pd.DataFrame(myarray, index=rownames, columns=colnames)\n",
    "print(mydataframe)\n"
   ]
  },
  {
   "cell_type": "code",
   "execution_count": 169,
   "metadata": {},
   "outputs": [
    {
     "data": {
      "text/html": [
       "<div>\n",
       "<style scoped>\n",
       "    .dataframe tbody tr th:only-of-type {\n",
       "        vertical-align: middle;\n",
       "    }\n",
       "\n",
       "    .dataframe tbody tr th {\n",
       "        vertical-align: top;\n",
       "    }\n",
       "\n",
       "    .dataframe thead th {\n",
       "        text-align: right;\n",
       "    }\n",
       "</style>\n",
       "<table border=\"1\" class=\"dataframe\">\n",
       "  <thead>\n",
       "    <tr style=\"text-align: right;\">\n",
       "      <th></th>\n",
       "      <th>a</th>\n",
       "      <th>b</th>\n",
       "      <th>c</th>\n",
       "    </tr>\n",
       "  </thead>\n",
       "  <tbody>\n",
       "    <tr>\n",
       "      <th>first</th>\n",
       "      <td>1</td>\n",
       "      <td>2</td>\n",
       "      <td>NaN</td>\n",
       "    </tr>\n",
       "    <tr>\n",
       "      <th>second</th>\n",
       "      <td>5</td>\n",
       "      <td>10</td>\n",
       "      <td>20.0</td>\n",
       "    </tr>\n",
       "  </tbody>\n",
       "</table>\n",
       "</div>"
      ],
      "text/plain": [
       "        a   b     c\n",
       "first   1   2   NaN\n",
       "second  5  10  20.0"
      ]
     },
     "execution_count": 169,
     "metadata": {},
     "output_type": "execute_result"
    }
   ],
   "source": [
    "import pandas as pd\n",
    "data = [{'a': 1, 'b': 2},{'a': 5, 'b': 10, 'c': 20}]\n",
    "df = pd.DataFrame(data, index=['first', 'second'])\n",
    "df"
   ]
  },
  {
   "cell_type": "code",
   "execution_count": 171,
   "metadata": {},
   "outputs": [
    {
     "data": {
      "text/html": [
       "<div>\n",
       "<style scoped>\n",
       "    .dataframe tbody tr th:only-of-type {\n",
       "        vertical-align: middle;\n",
       "    }\n",
       "\n",
       "    .dataframe tbody tr th {\n",
       "        vertical-align: top;\n",
       "    }\n",
       "\n",
       "    .dataframe thead th {\n",
       "        text-align: right;\n",
       "    }\n",
       "</style>\n",
       "<table border=\"1\" class=\"dataframe\">\n",
       "  <thead>\n",
       "    <tr style=\"text-align: right;\">\n",
       "      <th></th>\n",
       "      <th>a</th>\n",
       "      <th>b</th>\n",
       "      <th>c</th>\n",
       "    </tr>\n",
       "  </thead>\n",
       "  <tbody>\n",
       "    <tr>\n",
       "      <th>first</th>\n",
       "      <td>1</td>\n",
       "      <td>2</td>\n",
       "      <td>NaN</td>\n",
       "    </tr>\n",
       "    <tr>\n",
       "      <th>second</th>\n",
       "      <td>5</td>\n",
       "      <td>10</td>\n",
       "      <td>20.0</td>\n",
       "    </tr>\n",
       "  </tbody>\n",
       "</table>\n",
       "</div>"
      ],
      "text/plain": [
       "        a   b     c\n",
       "first   1   2   NaN\n",
       "second  5  10  20.0"
      ]
     },
     "metadata": {},
     "output_type": "display_data"
    }
   ],
   "source": [
    "display(df)"
   ]
  },
  {
   "cell_type": "code",
   "execution_count": 149,
   "metadata": {},
   "outputs": [
    {
     "data": {
      "text/plain": [
       "first      NaN\n",
       "second    20.0\n",
       "Name: c, dtype: float64"
      ]
     },
     "execution_count": 149,
     "metadata": {},
     "output_type": "execute_result"
    }
   ],
   "source": [
    "df ['c']"
   ]
  },
  {
   "cell_type": "code",
   "execution_count": 1,
   "metadata": {},
   "outputs": [
    {
     "name": "stdout",
     "output_type": "stream",
     "text": [
      "0    0.718738\n",
      "1    1.677237\n",
      "2   -0.195944\n",
      "3    1.409469\n",
      "4    0.368420\n",
      "dtype: float64\n",
      "The actual data series is:\n",
      "[ 0.7187383   1.6772368  -0.1959442   1.40946942  0.36841988]\n"
     ]
    }
   ],
   "source": [
    "import pandas as pd\n",
    "import numpy as np\n",
    "\n",
    "#Create a series with 4 random numbers\n",
    "s = pd.Series(np.random.randn(5))\n",
    "print( s)\n",
    "\n",
    "print (\"The actual data series is:\")\n",
    "print( s.values)"
   ]
  },
  {
   "cell_type": "code",
   "execution_count": 164,
   "metadata": {},
   "outputs": [
    {
     "data": {
      "image/png": "[encoded data removed]",
      "text/plain": [
       "<Figure size 432x288 with 1 Axes>"
      ]
     },
     "metadata": {},
     "output_type": "display_data"
    }
   ],
   "source": [
    "plt.hist(s, bins=5, color='g', alpha=0.75, label='bar hist') # default histtype='bar'\n",
    "#plt.hist(data2, color='b', alpha=0.65, histtype='stepfilled', label='stepfilled hist')\n",
    "#plt.hist(data3, color='r', histtype='step', label='step hist')\n",
    "#plt.hist((data4a, data4b), color=('r','m'), alpha=0.55, histtype='barstacked', label=('barstacked a', 'barstacked b'))\n",
    "\n",
    "plt.xlabel(\"Value\")\n",
    "plt.ylabel(\"Frequency\")\n",
    "plt.legend()\n",
    "plt.grid(True)\n",
    "plt.show()"
   ]
  },
  {
   "cell_type": "code",
   "execution_count": 165,
   "metadata": {},
   "outputs": [
    {
     "data": {
      "text/plain": [
       "count    10000.000000\n",
       "mean        -0.012613\n",
       "std          1.009860\n",
       "min         -3.726427\n",
       "25%         -0.696765\n",
       "50%         -0.012002\n",
       "75%          0.655418\n",
       "max          4.123043\n",
       "dtype: float64"
      ]
     },
     "execution_count": 165,
     "metadata": {},
     "output_type": "execute_result"
    }
   ],
   "source": [
    "s.describe()"
   ]
  },
  {
   "cell_type": "code",
   "execution_count": 168,
   "metadata": {},
   "outputs": [
    {
     "data": {
      "text/plain": [
       "0   -0.966380\n",
       "1    0.322910\n",
       "2   -0.749383\n",
       "3    2.405448\n",
       "4    0.680611\n",
       "dtype: float64"
      ]
     },
     "execution_count": 168,
     "metadata": {},
     "output_type": "execute_result"
    }
   ],
   "source": [
    "s.head()"
   ]
  },
  {
   "cell_type": "markdown",
   "metadata": {},
   "source": [
    "- **ADD CATEGORIAL COLUMNS**"
   ]
  },
  {
   "cell_type": "code",
   "execution_count": 30,
   "metadata": {},
   "outputs": [
    {
     "data": {
      "text/html": [
       "<div>\n",
       "<style scoped>\n",
       "    .dataframe tbody tr th:only-of-type {\n",
       "        vertical-align: middle;\n",
       "    }\n",
       "\n",
       "    .dataframe tbody tr th {\n",
       "        vertical-align: top;\n",
       "    }\n",
       "\n",
       "    .dataframe thead th {\n",
       "        text-align: right;\n",
       "    }\n",
       "</style>\n",
       "<table border=\"1\" class=\"dataframe\">\n",
       "  <thead>\n",
       "    <tr style=\"text-align: right;\">\n",
       "      <th></th>\n",
       "      <th>a</th>\n",
       "      <th>b</th>\n",
       "      <th>c</th>\n",
       "    </tr>\n",
       "  </thead>\n",
       "  <tbody>\n",
       "    <tr>\n",
       "      <th>0</th>\n",
       "      <td>1</td>\n",
       "      <td>2</td>\n",
       "      <td>3</td>\n",
       "    </tr>\n",
       "    <tr>\n",
       "      <th>1</th>\n",
       "      <td>4</td>\n",
       "      <td>5</td>\n",
       "      <td>6</td>\n",
       "    </tr>\n",
       "    <tr>\n",
       "      <th>2</th>\n",
       "      <td>7</td>\n",
       "      <td>8</td>\n",
       "      <td>9</td>\n",
       "    </tr>\n",
       "    <tr>\n",
       "      <th>3</th>\n",
       "      <td>10</td>\n",
       "      <td>12</td>\n",
       "      <td>13</td>\n",
       "    </tr>\n",
       "    <tr>\n",
       "      <th>4</th>\n",
       "      <td>14</td>\n",
       "      <td>15</td>\n",
       "      <td>16</td>\n",
       "    </tr>\n",
       "    <tr>\n",
       "      <th>5</th>\n",
       "      <td>17</td>\n",
       "      <td>18</td>\n",
       "      <td>19</td>\n",
       "    </tr>\n",
       "  </tbody>\n",
       "</table>\n",
       "</div>"
      ],
      "text/plain": [
       "    a   b   c\n",
       "0   1   2   3\n",
       "1   4   5   6\n",
       "2   7   8   9\n",
       "3  10  12  13\n",
       "4  14  15  16\n",
       "5  17  18  19"
      ]
     },
     "execution_count": 30,
     "metadata": {},
     "output_type": "execute_result"
    }
   ],
   "source": [
    "df2 = pd.DataFrame(np.array([[1, 2, 3], [4, 5, 6], [7, 8, 9],[10, 12, 13], [14, 15, 16], [17, 18, 19]]),\n",
    "...                    columns=['a', 'b', 'c'])\n",
    "df2"
   ]
  },
  {
   "cell_type": "code",
   "execution_count": 31,
   "metadata": {},
   "outputs": [
    {
     "data": {
      "text/plain": [
       "array([False,  True,  True, False, False,  True])"
      ]
     },
     "execution_count": 31,
     "metadata": {},
     "output_type": "execute_result"
    }
   ],
   "source": [
    "# set a seed for reproducibility\n",
    "#np.random.seed(12345)\n",
    "\n",
    "# create a Series of booleans in which roughly half are True\n",
    "nums = np.random.rand(len(df2))\n",
    "keys = nums > 0.5\n",
    "# initially set Size to small, then change roughly half to be large\n",
    "df2['Size'] = 'small'\n",
    "df2.loc[keys, 'Size'] = 'large'\n",
    "#df2.head()\n",
    "keys"
   ]
  },
  {
   "cell_type": "code",
   "execution_count": 32,
   "metadata": {},
   "outputs": [
    {
     "data": {
      "text/html": [
       "<div>\n",
       "<style scoped>\n",
       "    .dataframe tbody tr th:only-of-type {\n",
       "        vertical-align: middle;\n",
       "    }\n",
       "\n",
       "    .dataframe tbody tr th {\n",
       "        vertical-align: top;\n",
       "    }\n",
       "\n",
       "    .dataframe thead th {\n",
       "        text-align: right;\n",
       "    }\n",
       "</style>\n",
       "<table border=\"1\" class=\"dataframe\">\n",
       "  <thead>\n",
       "    <tr style=\"text-align: right;\">\n",
       "      <th></th>\n",
       "      <th>a</th>\n",
       "      <th>b</th>\n",
       "      <th>c</th>\n",
       "      <th>Size</th>\n",
       "    </tr>\n",
       "  </thead>\n",
       "  <tbody>\n",
       "    <tr>\n",
       "      <th>0</th>\n",
       "      <td>1</td>\n",
       "      <td>2</td>\n",
       "      <td>3</td>\n",
       "      <td>small</td>\n",
       "    </tr>\n",
       "    <tr>\n",
       "      <th>1</th>\n",
       "      <td>4</td>\n",
       "      <td>5</td>\n",
       "      <td>6</td>\n",
       "      <td>small</td>\n",
       "    </tr>\n",
       "    <tr>\n",
       "      <th>2</th>\n",
       "      <td>7</td>\n",
       "      <td>8</td>\n",
       "      <td>9</td>\n",
       "      <td>large</td>\n",
       "    </tr>\n",
       "    <tr>\n",
       "      <th>3</th>\n",
       "      <td>10</td>\n",
       "      <td>12</td>\n",
       "      <td>13</td>\n",
       "      <td>large</td>\n",
       "    </tr>\n",
       "    <tr>\n",
       "      <th>4</th>\n",
       "      <td>14</td>\n",
       "      <td>15</td>\n",
       "      <td>16</td>\n",
       "      <td>small</td>\n",
       "    </tr>\n",
       "  </tbody>\n",
       "</table>\n",
       "</div>"
      ],
      "text/plain": [
       "    a   b   c   Size\n",
       "0   1   2   3  small\n",
       "1   4   5   6  small\n",
       "2   7   8   9  large\n",
       "3  10  12  13  large\n",
       "4  14  15  16  small"
      ]
     },
     "execution_count": 32,
     "metadata": {},
     "output_type": "execute_result"
    }
   ],
   "source": [
    "\n",
    "# set a seed for reproducibility\n",
    "#np.random.seed(12345)\n",
    "\n",
    "# create a Series of booleans in which roughly half are True\n",
    "#nums = np.random.rand(len(df2))\n",
    "keys = np.array([False, False,  True,  True, False,  True])\n",
    "# initially set Size to small, then change roughly half to be large\n",
    "df2['Size'] = 'small'\n",
    "df2.loc[keys, 'Size'] = 'large'\n",
    "df2.head()"
   ]
  },
  {
   "cell_type": "code",
   "execution_count": 33,
   "metadata": {},
   "outputs": [
    {
     "data": {
      "text/html": [
       "<div>\n",
       "<style scoped>\n",
       "    .dataframe tbody tr th:only-of-type {\n",
       "        vertical-align: middle;\n",
       "    }\n",
       "\n",
       "    .dataframe tbody tr th {\n",
       "        vertical-align: top;\n",
       "    }\n",
       "\n",
       "    .dataframe thead th {\n",
       "        text-align: right;\n",
       "    }\n",
       "</style>\n",
       "<table border=\"1\" class=\"dataframe\">\n",
       "  <thead>\n",
       "    <tr style=\"text-align: right;\">\n",
       "      <th></th>\n",
       "      <th>a</th>\n",
       "      <th>b</th>\n",
       "      <th>c</th>\n",
       "      <th>Size</th>\n",
       "      <th>Size_large</th>\n",
       "    </tr>\n",
       "  </thead>\n",
       "  <tbody>\n",
       "    <tr>\n",
       "      <th>0</th>\n",
       "      <td>1</td>\n",
       "      <td>2</td>\n",
       "      <td>3</td>\n",
       "      <td>small</td>\n",
       "      <td>0</td>\n",
       "    </tr>\n",
       "    <tr>\n",
       "      <th>1</th>\n",
       "      <td>4</td>\n",
       "      <td>5</td>\n",
       "      <td>6</td>\n",
       "      <td>small</td>\n",
       "      <td>0</td>\n",
       "    </tr>\n",
       "    <tr>\n",
       "      <th>2</th>\n",
       "      <td>7</td>\n",
       "      <td>8</td>\n",
       "      <td>9</td>\n",
       "      <td>large</td>\n",
       "      <td>1</td>\n",
       "    </tr>\n",
       "    <tr>\n",
       "      <th>3</th>\n",
       "      <td>10</td>\n",
       "      <td>12</td>\n",
       "      <td>13</td>\n",
       "      <td>large</td>\n",
       "      <td>1</td>\n",
       "    </tr>\n",
       "    <tr>\n",
       "      <th>4</th>\n",
       "      <td>14</td>\n",
       "      <td>15</td>\n",
       "      <td>16</td>\n",
       "      <td>small</td>\n",
       "      <td>0</td>\n",
       "    </tr>\n",
       "  </tbody>\n",
       "</table>\n",
       "</div>"
      ],
      "text/plain": [
       "    a   b   c   Size  Size_large\n",
       "0   1   2   3  small           0\n",
       "1   4   5   6  small           0\n",
       "2   7   8   9  large           1\n",
       "3  10  12  13  large           1\n",
       "4  14  15  16  small           0"
      ]
     },
     "execution_count": 33,
     "metadata": {},
     "output_type": "execute_result"
    }
   ],
   "source": [
    "# create a new Series called Size_large\n",
    "df2['Size_large'] = df2.Size.map({'small':0, 'large':1})\n",
    "df2.head()"
   ]
  },
  {
   "cell_type": "code",
   "execution_count": 34,
   "metadata": {},
   "outputs": [
    {
     "data": {
      "text/html": [
       "<div>\n",
       "<style scoped>\n",
       "    .dataframe tbody tr th:only-of-type {\n",
       "        vertical-align: middle;\n",
       "    }\n",
       "\n",
       "    .dataframe tbody tr th {\n",
       "        vertical-align: top;\n",
       "    }\n",
       "\n",
       "    .dataframe thead th {\n",
       "        text-align: right;\n",
       "    }\n",
       "</style>\n",
       "<table border=\"1\" class=\"dataframe\">\n",
       "  <thead>\n",
       "    <tr style=\"text-align: right;\">\n",
       "      <th></th>\n",
       "      <th>a</th>\n",
       "      <th>b</th>\n",
       "      <th>c</th>\n",
       "      <th>Size</th>\n",
       "      <th>Size_large</th>\n",
       "      <th>Area</th>\n",
       "    </tr>\n",
       "  </thead>\n",
       "  <tbody>\n",
       "    <tr>\n",
       "      <th>0</th>\n",
       "      <td>1</td>\n",
       "      <td>2</td>\n",
       "      <td>3</td>\n",
       "      <td>small</td>\n",
       "      <td>0</td>\n",
       "      <td>suburban</td>\n",
       "    </tr>\n",
       "    <tr>\n",
       "      <th>1</th>\n",
       "      <td>4</td>\n",
       "      <td>5</td>\n",
       "      <td>6</td>\n",
       "      <td>small</td>\n",
       "      <td>0</td>\n",
       "      <td>rural</td>\n",
       "    </tr>\n",
       "    <tr>\n",
       "      <th>2</th>\n",
       "      <td>7</td>\n",
       "      <td>8</td>\n",
       "      <td>9</td>\n",
       "      <td>large</td>\n",
       "      <td>1</td>\n",
       "      <td>urban</td>\n",
       "    </tr>\n",
       "    <tr>\n",
       "      <th>3</th>\n",
       "      <td>10</td>\n",
       "      <td>12</td>\n",
       "      <td>13</td>\n",
       "      <td>large</td>\n",
       "      <td>1</td>\n",
       "      <td>rural</td>\n",
       "    </tr>\n",
       "    <tr>\n",
       "      <th>4</th>\n",
       "      <td>14</td>\n",
       "      <td>15</td>\n",
       "      <td>16</td>\n",
       "      <td>small</td>\n",
       "      <td>0</td>\n",
       "      <td>rural</td>\n",
       "    </tr>\n",
       "  </tbody>\n",
       "</table>\n",
       "</div>"
      ],
      "text/plain": [
       "    a   b   c   Size  Size_large      Area\n",
       "0   1   2   3  small           0  suburban\n",
       "1   4   5   6  small           0     rural\n",
       "2   7   8   9  large           1     urban\n",
       "3  10  12  13  large           1     rural\n",
       "4  14  15  16  small           0     rural"
      ]
     },
     "execution_count": 34,
     "metadata": {},
     "output_type": "execute_result"
    }
   ],
   "source": [
    "# set a seed for reproducibility\n",
    "#np.random.seed(123456)\n",
    "\n",
    "# assign roughly one third of observations to each group\n",
    "nums = np.random.rand(len(df2))\n",
    "mask_suburban = (nums > 0.33) & (nums < 0.66)\n",
    "mask_urban = nums > 0.66\n",
    "df2['Area'] = 'rural'\n",
    "df2.loc[mask_suburban, 'Area'] = 'suburban'\n",
    "df2.loc[mask_urban, 'Area'] = 'urban'\n",
    "df2.head()"
   ]
  },
  {
   "cell_type": "code",
   "execution_count": null,
   "metadata": {
    "collapsed": true
   },
   "outputs": [],
   "source": []
  },
  {
   "cell_type": "code",
   "execution_count": null,
   "metadata": {
    "collapsed": true
   },
   "outputs": [],
   "source": []
  }
 ],
 "metadata": {
  "kernelspec": {
   "display_name": "Python 3",
   "language": "python",
   "name": "python3"
  },
  "language_info": {
   "codemirror_mode": {
    "name": "ipython",
    "version": 3
   },
   "file_extension": ".py",
   "mimetype": "text/x-python",
   "name": "python",
   "nbconvert_exporter": "python",
   "pygments_lexer": "ipython3",
   "version": "3.6.3"
  },
  "toc": {
   "base_numbering": 1,
   "nav_menu": {},
   "number_sections": true,
   "sideBar": true,
   "skip_h1_title": false,
   "title_cell": "Table of Contents",
   "title_sidebar": "Contents",
   "toc_cell": false,
   "toc_position": {
    "height": "calc(100% - 180px)",
    "left": "10px",
    "top": "150px",
    "width": "215px"
   },
   "toc_section_display": true,
   "toc_window_display": true
  }
 },
 "nbformat": 4,
 "nbformat_minor": 2
}
